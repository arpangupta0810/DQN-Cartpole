{
 "cells": [
  {
   "cell_type": "code",
   "execution_count": null,
   "metadata": {
    "colab": {
     "base_uri": "https://localhost:8080/"
    },
    "id": "9gN-dgsozYJu",
    "outputId": "abfe6e20-f2bf-4601-fb24-0394523a9b96"
   },
   "outputs": [
    {
     "name": "stdout",
     "output_type": "stream",
     "text": [
      "\r",
      "0% [Working]\r",
      "            \r",
      "Hit:1 http://archive.ubuntu.com/ubuntu bionic InRelease\n",
      "\r",
      "            \r",
      "Get:2 http://security.ubuntu.com/ubuntu bionic-security InRelease [88.7 kB]\n",
      "Get:3 http://archive.ubuntu.com/ubuntu bionic-updates InRelease [88.7 kB]\n",
      "Get:4 https://cloud.r-project.org/bin/linux/ubuntu bionic-cran40/ InRelease [3,626 B]\n",
      "Ign:5 https://developer.download.nvidia.com/compute/machine-learning/repos/ubuntu1804/x86_64  InRelease\n",
      "Get:6 https://developer.download.nvidia.com/compute/cuda/repos/ubuntu1804/x86_64  InRelease [1,581 B]\n",
      "Get:7 http://archive.ubuntu.com/ubuntu bionic-backports InRelease [74.6 kB]\n",
      "Hit:8 https://developer.download.nvidia.com/compute/machine-learning/repos/ubuntu1804/x86_64  Release\n",
      "Get:9 http://ppa.launchpad.net/c2d4u.team/c2d4u4.0+/ubuntu bionic InRelease [15.9 kB]\n",
      "Get:10 http://security.ubuntu.com/ubuntu bionic-security/universe amd64 Packages [1,533 kB]\n",
      "Get:11 https://cloud.r-project.org/bin/linux/ubuntu bionic-cran40/ Packages [90.7 kB]\n",
      "Hit:12 http://ppa.launchpad.net/cran/libgit2/ubuntu bionic InRelease\n",
      "Get:13 http://security.ubuntu.com/ubuntu bionic-security/restricted amd64 Packages [1,100 kB]\n",
      "Get:14 http://security.ubuntu.com/ubuntu bionic-security/main amd64 Packages [2,937 kB]\n",
      "Get:15 http://ppa.launchpad.net/deadsnakes/ppa/ubuntu bionic InRelease [15.9 kB]\n",
      "Get:16 http://archive.ubuntu.com/ubuntu bionic-updates/universe amd64 Packages [2,310 kB]\n",
      "Get:17 https://developer.download.nvidia.com/compute/cuda/repos/ubuntu1804/x86_64  Packages [903 kB]\n",
      "Get:18 http://archive.ubuntu.com/ubuntu bionic-updates/restricted amd64 Packages [1,141 kB]\n",
      "Get:19 http://ppa.launchpad.net/graphics-drivers/ppa/ubuntu bionic InRelease [21.3 kB]\n",
      "Get:20 http://archive.ubuntu.com/ubuntu bionic-updates/main amd64 Packages [3,369 kB]\n",
      "Get:22 http://ppa.launchpad.net/c2d4u.team/c2d4u4.0+/ubuntu bionic/main Sources [2,095 kB]\n",
      "Get:23 http://ppa.launchpad.net/c2d4u.team/c2d4u4.0+/ubuntu bionic/main amd64 Packages [1,073 kB]\n",
      "Get:24 http://ppa.launchpad.net/deadsnakes/ppa/ubuntu bionic/main amd64 Packages [45.3 kB]\n",
      "Get:25 http://ppa.launchpad.net/graphics-drivers/ppa/ubuntu bionic/main amd64 Packages [47.7 kB]\n",
      "Fetched 17.0 MB in 4s (4,574 kB/s)\n",
      "Reading package lists... Done\n",
      "Reading package lists... Done\n",
      "Building dependency tree       \n",
      "Reading state information... Done\n",
      "freeglut3-dev is already the newest version (2.8.1-3).\n",
      "freeglut3-dev set to manually installed.\n",
      "ffmpeg is already the newest version (7:3.4.11-0ubuntu0.1).\n",
      "The following package was automatically installed and is no longer required:\n",
      "  libnvidia-common-460\n",
      "Use 'sudo apt autoremove' to remove it.\n",
      "The following NEW packages will be installed:\n",
      "  xvfb\n",
      "0 upgraded, 1 newly installed, 0 to remove and 38 not upgraded.\n",
      "Need to get 785 kB of archives.\n",
      "After this operation, 2,271 kB of additional disk space will be used.\n",
      "Get:1 http://archive.ubuntu.com/ubuntu bionic-updates/universe amd64 xvfb amd64 2:1.19.6-1ubuntu4.11 [785 kB]\n",
      "Fetched 785 kB in 1s (1,051 kB/s)\n",
      "debconf: unable to initialize frontend: Dialog\n",
      "debconf: (No usable dialog-like program is installed, so the dialog based frontend cannot be used. at /usr/share/perl5/Debconf/FrontEnd/Dialog.pm line 76, <> line 1.)\n",
      "debconf: falling back to frontend: Readline\n",
      "debconf: unable to initialize frontend: Readline\n",
      "debconf: (This frontend requires a controlling tty.)\n",
      "debconf: falling back to frontend: Teletype\n",
      "dpkg-preconfigure: unable to re-open stdin: \n",
      "Selecting previously unselected package xvfb.\n",
      "(Reading database ... 155680 files and directories currently installed.)\n",
      "Preparing to unpack .../xvfb_2%3a1.19.6-1ubuntu4.11_amd64.deb ...\n",
      "Unpacking xvfb (2:1.19.6-1ubuntu4.11) ...\n",
      "Setting up xvfb (2:1.19.6-1ubuntu4.11) ...\n",
      "Processing triggers for man-db (2.8.3-2ubuntu0.1) ...\n",
      "Looking in indexes: https://pypi.org/simple, https://us-python.pkg.dev/colab-wheels/public/simple/\n",
      "Collecting imageio==2.4.0\n",
      "  Downloading imageio-2.4.0.tar.gz (3.3 MB)\n",
      "\u001b[K     |████████████████████████████████| 3.3 MB 4.8 MB/s \n",
      "\u001b[?25hRequirement already satisfied: numpy in /usr/local/lib/python3.7/dist-packages (from imageio==2.4.0) (1.21.6)\n",
      "Requirement already satisfied: pillow in /usr/local/lib/python3.7/dist-packages (from imageio==2.4.0) (7.1.2)\n",
      "Building wheels for collected packages: imageio\n",
      "  Building wheel for imageio (setup.py) ... \u001b[?25l\u001b[?25hdone\n",
      "  Created wheel for imageio: filename=imageio-2.4.0-py3-none-any.whl size=3303895 sha256=d15dd2134ebd6510f354cabd5e95bf2c42fdbaf149888f49913a25052ee9d257\n",
      "  Stored in directory: /root/.cache/pip/wheels/aa/de/2f/6c5a75120d68a2c3138120c8d0ce1c6f9483a4b96307986bf2\n",
      "Successfully built imageio\n",
      "Installing collected packages: imageio\n",
      "  Attempting uninstall: imageio\n",
      "    Found existing installation: imageio 2.9.0\n",
      "    Uninstalling imageio-2.9.0:\n",
      "      Successfully uninstalled imageio-2.9.0\n",
      "Successfully installed imageio-2.4.0\n",
      "Looking in indexes: https://pypi.org/simple, https://us-python.pkg.dev/colab-wheels/public/simple/\n",
      "Collecting pyvirtualdisplay\n",
      "  Downloading PyVirtualDisplay-3.0-py3-none-any.whl (15 kB)\n",
      "Installing collected packages: pyvirtualdisplay\n",
      "Successfully installed pyvirtualdisplay-3.0\n",
      "Looking in indexes: https://pypi.org/simple, https://us-python.pkg.dev/colab-wheels/public/simple/\n",
      "Collecting tf-agents[reverb]\n",
      "  Downloading tf_agents-0.13.0-py3-none-any.whl (1.3 MB)\n",
      "\u001b[K     |████████████████████████████████| 1.3 MB 5.2 MB/s \n",
      "\u001b[?25hRequirement already satisfied: gym<=0.23.0,>=0.17.0 in /usr/local/lib/python3.7/dist-packages (from tf-agents[reverb]) (0.17.3)\n",
      "Requirement already satisfied: six>=1.10.0 in /usr/local/lib/python3.7/dist-packages (from tf-agents[reverb]) (1.15.0)\n",
      "Requirement already satisfied: numpy>=1.13.3 in /usr/local/lib/python3.7/dist-packages (from tf-agents[reverb]) (1.21.6)\n",
      "Requirement already satisfied: protobuf>=3.11.3 in /usr/local/lib/python3.7/dist-packages (from tf-agents[reverb]) (3.17.3)\n",
      "Collecting pygame==2.1.0\n",
      "  Downloading pygame-2.1.0-cp37-cp37m-manylinux_2_17_x86_64.manylinux2014_x86_64.whl (18.3 MB)\n",
      "\u001b[K     |████████████████████████████████| 18.3 MB 92 kB/s \n",
      "\u001b[?25hRequirement already satisfied: gin-config>=0.4.0 in /usr/local/lib/python3.7/dist-packages (from tf-agents[reverb]) (0.5.0)\n",
      "Requirement already satisfied: pillow in /usr/local/lib/python3.7/dist-packages (from tf-agents[reverb]) (7.1.2)\n",
      "Requirement already satisfied: tensorflow-probability>=0.16.0 in /usr/local/lib/python3.7/dist-packages (from tf-agents[reverb]) (0.16.0)\n",
      "Requirement already satisfied: absl-py>=0.6.1 in /usr/local/lib/python3.7/dist-packages (from tf-agents[reverb]) (1.2.0)\n",
      "Requirement already satisfied: wrapt>=1.11.1 in /usr/local/lib/python3.7/dist-packages (from tf-agents[reverb]) (1.14.1)\n",
      "Requirement already satisfied: cloudpickle>=1.3 in /usr/local/lib/python3.7/dist-packages (from tf-agents[reverb]) (1.3.0)\n",
      "Requirement already satisfied: typing-extensions>=3.7.4.3 in /usr/local/lib/python3.7/dist-packages (from tf-agents[reverb]) (4.1.1)\n",
      "Collecting tensorflow~=2.9.0\n",
      "  Downloading tensorflow-2.9.1-cp37-cp37m-manylinux_2_17_x86_64.manylinux2014_x86_64.whl (511.7 MB)\n",
      "\u001b[K     |████████████████████████████████| 511.7 MB 5.7 kB/s \n",
      "\u001b[?25hCollecting rlds\n",
      "  Downloading rlds-0.1.5-py3-none-manylinux2010_x86_64.whl (43 kB)\n",
      "\u001b[K     |████████████████████████████████| 43 kB 2.1 MB/s \n",
      "\u001b[?25hCollecting dm-reverb~=0.8.0\n",
      "  Downloading dm_reverb-0.8.0-cp37-cp37m-manylinux2014_x86_64.whl (6.5 MB)\n",
      "\u001b[K     |████████████████████████████████| 6.5 MB 30.6 MB/s \n",
      "\u001b[?25hRequirement already satisfied: portpicker in /usr/local/lib/python3.7/dist-packages (from dm-reverb~=0.8.0->tf-agents[reverb]) (1.3.9)\n",
      "Requirement already satisfied: dm-tree in /usr/local/lib/python3.7/dist-packages (from dm-reverb~=0.8.0->tf-agents[reverb]) (0.1.7)\n",
      "Requirement already satisfied: scipy in /usr/local/lib/python3.7/dist-packages (from gym<=0.23.0,>=0.17.0->tf-agents[reverb]) (1.7.3)\n",
      "Requirement already satisfied: pyglet<=1.5.0,>=1.4.0 in /usr/local/lib/python3.7/dist-packages (from gym<=0.23.0,>=0.17.0->tf-agents[reverb]) (1.5.0)\n",
      "Requirement already satisfied: future in /usr/local/lib/python3.7/dist-packages (from pyglet<=1.5.0,>=1.4.0->gym<=0.23.0,>=0.17.0->tf-agents[reverb]) (0.16.0)\n",
      "Requirement already satisfied: setuptools in /usr/local/lib/python3.7/dist-packages (from tensorflow~=2.9.0->tf-agents[reverb]) (57.4.0)\n",
      "Requirement already satisfied: opt-einsum>=2.3.2 in /usr/local/lib/python3.7/dist-packages (from tensorflow~=2.9.0->tf-agents[reverb]) (3.3.0)\n",
      "Requirement already satisfied: packaging in /usr/local/lib/python3.7/dist-packages (from tensorflow~=2.9.0->tf-agents[reverb]) (21.3)\n",
      "Requirement already satisfied: grpcio<2.0,>=1.24.3 in /usr/local/lib/python3.7/dist-packages (from tensorflow~=2.9.0->tf-agents[reverb]) (1.47.0)\n",
      "Collecting gast<=0.4.0,>=0.2.1\n",
      "  Downloading gast-0.4.0-py3-none-any.whl (9.8 kB)\n",
      "Requirement already satisfied: keras-preprocessing>=1.1.1 in /usr/local/lib/python3.7/dist-packages (from tensorflow~=2.9.0->tf-agents[reverb]) (1.1.2)\n",
      "Collecting tensorflow-estimator<2.10.0,>=2.9.0rc0\n",
      "  Downloading tensorflow_estimator-2.9.0-py2.py3-none-any.whl (438 kB)\n",
      "\u001b[K     |████████████████████████████████| 438 kB 51.3 MB/s \n",
      "\u001b[?25hCollecting keras<2.10.0,>=2.9.0rc0\n",
      "  Downloading keras-2.9.0-py2.py3-none-any.whl (1.6 MB)\n",
      "\u001b[K     |████████████████████████████████| 1.6 MB 72.0 MB/s \n",
      "\u001b[?25hRequirement already satisfied: google-pasta>=0.1.1 in /usr/local/lib/python3.7/dist-packages (from tensorflow~=2.9.0->tf-agents[reverb]) (0.2.0)\n",
      "Requirement already satisfied: termcolor>=1.1.0 in /usr/local/lib/python3.7/dist-packages (from tensorflow~=2.9.0->tf-agents[reverb]) (1.1.0)\n",
      "Collecting tensorboard<2.10,>=2.9\n",
      "  Downloading tensorboard-2.9.1-py3-none-any.whl (5.8 MB)\n",
      "\u001b[K     |████████████████████████████████| 5.8 MB 33.1 MB/s \n",
      "\u001b[?25hRequirement already satisfied: h5py>=2.9.0 in /usr/local/lib/python3.7/dist-packages (from tensorflow~=2.9.0->tf-agents[reverb]) (3.1.0)\n",
      "Collecting flatbuffers<2,>=1.12\n",
      "  Downloading flatbuffers-1.12-py2.py3-none-any.whl (15 kB)\n",
      "Requirement already satisfied: libclang>=13.0.0 in /usr/local/lib/python3.7/dist-packages (from tensorflow~=2.9.0->tf-agents[reverb]) (14.0.6)\n",
      "Requirement already satisfied: astunparse>=1.6.0 in /usr/local/lib/python3.7/dist-packages (from tensorflow~=2.9.0->tf-agents[reverb]) (1.6.3)\n",
      "Requirement already satisfied: tensorflow-io-gcs-filesystem>=0.23.1 in /usr/local/lib/python3.7/dist-packages (from tensorflow~=2.9.0->tf-agents[reverb]) (0.26.0)\n",
      "Requirement already satisfied: wheel<1.0,>=0.23.0 in /usr/local/lib/python3.7/dist-packages (from astunparse>=1.6.0->tensorflow~=2.9.0->tf-agents[reverb]) (0.37.1)\n",
      "Requirement already satisfied: cached-property in /usr/local/lib/python3.7/dist-packages (from h5py>=2.9.0->tensorflow~=2.9.0->tf-agents[reverb]) (1.5.2)\n",
      "Requirement already satisfied: google-auth-oauthlib<0.5,>=0.4.1 in /usr/local/lib/python3.7/dist-packages (from tensorboard<2.10,>=2.9->tensorflow~=2.9.0->tf-agents[reverb]) (0.4.6)\n",
      "Requirement already satisfied: google-auth<3,>=1.6.3 in /usr/local/lib/python3.7/dist-packages (from tensorboard<2.10,>=2.9->tensorflow~=2.9.0->tf-agents[reverb]) (1.35.0)\n",
      "Requirement already satisfied: tensorboard-data-server<0.7.0,>=0.6.0 in /usr/local/lib/python3.7/dist-packages (from tensorboard<2.10,>=2.9->tensorflow~=2.9.0->tf-agents[reverb]) (0.6.1)\n",
      "Requirement already satisfied: werkzeug>=1.0.1 in /usr/local/lib/python3.7/dist-packages (from tensorboard<2.10,>=2.9->tensorflow~=2.9.0->tf-agents[reverb]) (1.0.1)\n",
      "Requirement already satisfied: requests<3,>=2.21.0 in /usr/local/lib/python3.7/dist-packages (from tensorboard<2.10,>=2.9->tensorflow~=2.9.0->tf-agents[reverb]) (2.23.0)\n",
      "Requirement already satisfied: tensorboard-plugin-wit>=1.6.0 in /usr/local/lib/python3.7/dist-packages (from tensorboard<2.10,>=2.9->tensorflow~=2.9.0->tf-agents[reverb]) (1.8.1)\n",
      "Requirement already satisfied: markdown>=2.6.8 in /usr/local/lib/python3.7/dist-packages (from tensorboard<2.10,>=2.9->tensorflow~=2.9.0->tf-agents[reverb]) (3.4.1)\n",
      "Requirement already satisfied: rsa<5,>=3.1.4 in /usr/local/lib/python3.7/dist-packages (from google-auth<3,>=1.6.3->tensorboard<2.10,>=2.9->tensorflow~=2.9.0->tf-agents[reverb]) (4.9)\n",
      "Requirement already satisfied: cachetools<5.0,>=2.0.0 in /usr/local/lib/python3.7/dist-packages (from google-auth<3,>=1.6.3->tensorboard<2.10,>=2.9->tensorflow~=2.9.0->tf-agents[reverb]) (4.2.4)\n",
      "Requirement already satisfied: pyasn1-modules>=0.2.1 in /usr/local/lib/python3.7/dist-packages (from google-auth<3,>=1.6.3->tensorboard<2.10,>=2.9->tensorflow~=2.9.0->tf-agents[reverb]) (0.2.8)\n",
      "Requirement already satisfied: requests-oauthlib>=0.7.0 in /usr/local/lib/python3.7/dist-packages (from google-auth-oauthlib<0.5,>=0.4.1->tensorboard<2.10,>=2.9->tensorflow~=2.9.0->tf-agents[reverb]) (1.3.1)\n",
      "Requirement already satisfied: importlib-metadata>=4.4 in /usr/local/lib/python3.7/dist-packages (from markdown>=2.6.8->tensorboard<2.10,>=2.9->tensorflow~=2.9.0->tf-agents[reverb]) (4.12.0)\n",
      "Requirement already satisfied: zipp>=0.5 in /usr/local/lib/python3.7/dist-packages (from importlib-metadata>=4.4->markdown>=2.6.8->tensorboard<2.10,>=2.9->tensorflow~=2.9.0->tf-agents[reverb]) (3.8.1)\n",
      "Requirement already satisfied: pyasn1<0.5.0,>=0.4.6 in /usr/local/lib/python3.7/dist-packages (from pyasn1-modules>=0.2.1->google-auth<3,>=1.6.3->tensorboard<2.10,>=2.9->tensorflow~=2.9.0->tf-agents[reverb]) (0.4.8)\n",
      "Requirement already satisfied: urllib3!=1.25.0,!=1.25.1,<1.26,>=1.21.1 in /usr/local/lib/python3.7/dist-packages (from requests<3,>=2.21.0->tensorboard<2.10,>=2.9->tensorflow~=2.9.0->tf-agents[reverb]) (1.24.3)\n",
      "Requirement already satisfied: idna<3,>=2.5 in /usr/local/lib/python3.7/dist-packages (from requests<3,>=2.21.0->tensorboard<2.10,>=2.9->tensorflow~=2.9.0->tf-agents[reverb]) (2.10)\n",
      "Requirement already satisfied: certifi>=2017.4.17 in /usr/local/lib/python3.7/dist-packages (from requests<3,>=2.21.0->tensorboard<2.10,>=2.9->tensorflow~=2.9.0->tf-agents[reverb]) (2022.6.15)\n",
      "Requirement already satisfied: chardet<4,>=3.0.2 in /usr/local/lib/python3.7/dist-packages (from requests<3,>=2.21.0->tensorboard<2.10,>=2.9->tensorflow~=2.9.0->tf-agents[reverb]) (3.0.4)\n",
      "Requirement already satisfied: oauthlib>=3.0.0 in /usr/local/lib/python3.7/dist-packages (from requests-oauthlib>=0.7.0->google-auth-oauthlib<0.5,>=0.4.1->tensorboard<2.10,>=2.9->tensorflow~=2.9.0->tf-agents[reverb]) (3.2.0)\n",
      "Requirement already satisfied: decorator in /usr/local/lib/python3.7/dist-packages (from tensorflow-probability>=0.16.0->tf-agents[reverb]) (4.4.2)\n",
      "Requirement already satisfied: pyparsing!=3.0.5,>=2.0.2 in /usr/local/lib/python3.7/dist-packages (from packaging->tensorflow~=2.9.0->tf-agents[reverb]) (3.0.9)\n",
      "Installing collected packages: gast, tensorflow-estimator, tensorboard, pygame, keras, flatbuffers, tf-agents, tensorflow, rlds, dm-reverb\n",
      "  Attempting uninstall: gast\n",
      "    Found existing installation: gast 0.5.3\n",
      "    Uninstalling gast-0.5.3:\n",
      "      Successfully uninstalled gast-0.5.3\n",
      "  Attempting uninstall: tensorflow-estimator\n",
      "    Found existing installation: tensorflow-estimator 2.8.0\n",
      "    Uninstalling tensorflow-estimator-2.8.0:\n",
      "      Successfully uninstalled tensorflow-estimator-2.8.0\n",
      "  Attempting uninstall: tensorboard\n",
      "    Found existing installation: tensorboard 2.8.0\n",
      "    Uninstalling tensorboard-2.8.0:\n",
      "      Successfully uninstalled tensorboard-2.8.0\n",
      "  Attempting uninstall: keras\n",
      "    Found existing installation: keras 2.8.0\n",
      "    Uninstalling keras-2.8.0:\n",
      "      Successfully uninstalled keras-2.8.0\n",
      "  Attempting uninstall: flatbuffers\n",
      "    Found existing installation: flatbuffers 2.0\n",
      "    Uninstalling flatbuffers-2.0:\n",
      "      Successfully uninstalled flatbuffers-2.0\n",
      "  Attempting uninstall: tensorflow\n",
      "    Found existing installation: tensorflow 2.8.2+zzzcolab20220719082949\n",
      "    Uninstalling tensorflow-2.8.2+zzzcolab20220719082949:\n",
      "      Successfully uninstalled tensorflow-2.8.2+zzzcolab20220719082949\n",
      "Successfully installed dm-reverb-0.8.0 flatbuffers-1.12 gast-0.4.0 keras-2.9.0 pygame-2.1.0 rlds-0.1.5 tensorboard-2.9.1 tensorflow-2.9.1 tensorflow-estimator-2.9.0 tf-agents-0.13.0\n",
      "Looking in indexes: https://pypi.org/simple, https://us-python.pkg.dev/colab-wheels/public/simple/\n",
      "Requirement already satisfied: pyglet in /usr/local/lib/python3.7/dist-packages (1.5.0)\n",
      "Requirement already satisfied: future in /usr/local/lib/python3.7/dist-packages (from pyglet) (0.16.0)\n"
     ]
    }
   ],
   "source": [
    "!sudo apt-get update\n",
    "!sudo apt-get install -y xvfb ffmpeg freeglut3-dev\n",
    "!pip install 'imageio==2.4.0'\n",
    "!pip install pyvirtualdisplay\n",
    "!pip install tf-agents[reverb]\n",
    "!pip install pyglet"
   ]
  },
  {
   "cell_type": "code",
   "execution_count": null,
   "metadata": {
    "id": "gDRc9y-F0A4G"
   },
   "outputs": [],
   "source": []
  },
  {
   "cell_type": "code",
   "execution_count": null,
   "metadata": {
    "id": "sMitx5qSgJk1"
   },
   "outputs": [],
   "source": [
    "from __future__ import absolute_import, division, print_function\n",
    "\n",
    "import base64\n",
    "import imageio\n",
    "import IPython\n",
    "import matplotlib\n",
    "import matplotlib.pyplot as plt\n",
    "import numpy as np\n",
    "import PIL.Image\n",
    "import pyvirtualdisplay\n",
    "import reverb\n",
    "\n",
    "import tensorflow as tf\n",
    "\n",
    "from tf_agents.agents.dqn import dqn_agent\n",
    "from tf_agents.drivers import py_driver\n",
    "from tf_agents.environments import suite_gym\n",
    "from tf_agents.environments import tf_py_environment\n",
    "from tf_agents.eval import metric_utils\n",
    "from tf_agents.metrics import tf_metrics\n",
    "from tf_agents.networks import sequential\n",
    "from tf_agents.policies import py_tf_eager_policy\n",
    "from tf_agents.policies import random_tf_policy\n",
    "from tf_agents.replay_buffers import reverb_replay_buffer\n",
    "from tf_agents.replay_buffers import reverb_utils\n",
    "from tf_agents.trajectories import trajectory\n",
    "from tf_agents.specs import tensor_spec\n",
    "from tf_agents.utils import common"
   ]
  },
  {
   "cell_type": "code",
   "execution_count": null,
   "metadata": {
    "id": "3SiGZ1zR0LSH"
   },
   "outputs": [],
   "source": [
    "display = pyvirtualdisplay.Display(visible=0, size=(1400, 900)).start()"
   ]
  },
  {
   "cell_type": "code",
   "execution_count": null,
   "metadata": {
    "colab": {
     "base_uri": "https://localhost:8080/",
     "height": 35
    },
    "id": "rrDZLd210RDc",
    "outputId": "cab1e15c-815f-461b-a6eb-3bbbd510c79c"
   },
   "outputs": [
    {
     "data": {
      "application/vnd.google.colaboratory.intrinsic+json": {
       "type": "string"
      },
      "text/plain": [
       "'2.9.1'"
      ]
     },
     "execution_count": 4,
     "metadata": {},
     "output_type": "execute_result"
    }
   ],
   "source": [
    "tf.version.VERSION"
   ]
  },
  {
   "cell_type": "code",
   "execution_count": null,
   "metadata": {
    "id": "YB8ZQq8e0VVF"
   },
   "outputs": [],
   "source": [
    "num_iterations = 20000 # @param {type:\"integer\"}\n",
    "\n",
    "initial_collect_steps = 100  # @param {type:\"integer\"}\n",
    "collect_steps_per_iteration =   1# @param {type:\"integer\"}\n",
    "replay_buffer_max_length = 100000  # @param {type:\"integer\"}\n",
    "\n",
    "batch_size = 64  # @param {type:\"integer\"}\n",
    "learning_rate = 1e-3  # @param {type:\"number\"}\n",
    "log_interval = 200  # @param {type:\"integer\"}\n",
    "\n",
    "num_eval_episodes = 10  # @param {type:\"integer\"}\n",
    "eval_interval = 1000  # @param {type:\"integer\"}"
   ]
  },
  {
   "cell_type": "code",
   "execution_count": null,
   "metadata": {
    "id": "9PJM093X0ewy"
   },
   "outputs": [],
   "source": []
  },
  {
   "cell_type": "code",
   "execution_count": null,
   "metadata": {
    "id": "pYEz-S9gEv2-"
   },
   "outputs": [],
   "source": [
    "env_name = 'CartPole-v0'\n",
    "env = suite_gym.load(env_name)"
   ]
  },
  {
   "cell_type": "code",
   "execution_count": null,
   "metadata": {
    "colab": {
     "base_uri": "https://localhost:8080/",
     "height": 417
    },
    "id": "RlO7WIQHu_7D",
    "outputId": "e42c22f3-0309-40d6-fb7d-6bcaa2221faa"
   },
   "outputs": [
    {
     "data": {
      "image/png": "[encoded data removed]",
      "text/plain": [
       "<PIL.Image.Image image mode=RGB size=600x400 at 0x7F81EE0C0710>"
      ]
     },
     "execution_count": 7,
     "metadata": {},
     "output_type": "execute_result"
    }
   ],
   "source": [
    "#@test {\"skip\": true}\n",
    "env.reset()\n",
    "PIL.Image.fromarray(env.render())"
   ]
  },
  {
   "cell_type": "code",
   "execution_count": null,
   "metadata": {
    "colab": {
     "base_uri": "https://localhost:8080/"
    },
    "id": "exDv57iHfwQV",
    "outputId": "5d519f90-097f-43c3-c60d-a791cb2b2460"
   },
   "outputs": [
    {
     "name": "stdout",
     "output_type": "stream",
     "text": [
      "Observation Spec:\n",
      "BoundedArraySpec(shape=(4,), dtype=dtype('float32'), name='observation', minimum=[-4.8000002e+00 -3.4028235e+38 -4.1887903e-01 -3.4028235e+38], maximum=[4.8000002e+00 3.4028235e+38 4.1887903e-01 3.4028235e+38])\n"
     ]
    }
   ],
   "source": [
    "\n",
    "print('Observation Spec:')\n",
    "print(env.time_step_spec().observation)"
   ]
  },
  {
   "cell_type": "code",
   "execution_count": null,
   "metadata": {
    "colab": {
     "base_uri": "https://localhost:8080/"
    },
    "id": "UxiSyCbBUQPi",
    "outputId": "8ad39635-23dc-4f26-c9d0-963e64e1d99e"
   },
   "outputs": [
    {
     "name": "stdout",
     "output_type": "stream",
     "text": [
      "Reward Spec:\n",
      "ArraySpec(shape=(), dtype=dtype('float32'), name='reward')\n"
     ]
    }
   ],
   "source": [
    "print('Reward Spec:')\n",
    "print(env.time_step_spec().reward)"
   ]
  },
  {
   "cell_type": "code",
   "execution_count": null,
   "metadata": {
    "colab": {
     "base_uri": "https://localhost:8080/"
    },
    "id": "bttJ4uxZUQBr",
    "outputId": "fe37d622-caff-44c9-9f9d-b0d26905797f"
   },
   "outputs": [
    {
     "name": "stdout",
     "output_type": "stream",
     "text": [
      "Action Spec:\n",
      "BoundedArraySpec(shape=(), dtype=dtype('int64'), name='action', minimum=0, maximum=1)\n"
     ]
    }
   ],
   "source": [
    "print('Action Spec:')\n",
    "print(env.action_spec())"
   ]
  },
  {
   "cell_type": "code",
   "execution_count": null,
   "metadata": {
    "colab": {
     "base_uri": "https://localhost:8080/"
    },
    "id": "V2UGR5t_iZX-",
    "outputId": "fbcc0caa-e4dd-4c3d-f06a-7ae643545a5e"
   },
   "outputs": [
    {
     "name": "stdout",
     "output_type": "stream",
     "text": [
      "Time step:\n",
      "TimeStep(\n",
      "{'discount': array(1., dtype=float32),\n",
      " 'observation': array([-0.0034714 , -0.01553698,  0.00350844, -0.03062587], dtype=float32),\n",
      " 'reward': array(0., dtype=float32),\n",
      " 'step_type': array(0, dtype=int32)})\n",
      "Next time step:\n",
      "TimeStep(\n",
      "{'discount': array(1., dtype=float32),\n",
      " 'observation': array([-0.00378214,  0.1795345 ,  0.00289592, -0.3221998 ], dtype=float32),\n",
      " 'reward': array(1., dtype=float32),\n",
      " 'step_type': array(1, dtype=int32)})\n"
     ]
    }
   ],
   "source": [
    "time_step = env.reset()\n",
    "print('Time step:')\n",
    "print(time_step)\n",
    "\n",
    "action = np.array(1, dtype=np.int32)\n",
    "\n",
    "next_time_step = env.step(action)\n",
    "print('Next time step:')\n",
    "print(next_time_step)"
   ]
  },
  {
   "cell_type": "code",
   "execution_count": null,
   "metadata": {
    "id": "N7brXNIGWXjC"
   },
   "outputs": [],
   "source": [
    "train_py_env = suite_gym.load(env_name)\n",
    "eval_py_env = suite_gym.load(env_name)"
   ]
  },
  {
   "cell_type": "code",
   "execution_count": null,
   "metadata": {
    "id": "Xp-Y4mD6eDhF"
   },
   "outputs": [],
   "source": [
    "\n",
    "train_env = tf_py_environment.TFPyEnvironment(train_py_env)\n",
    "eval_env = tf_py_environment.TFPyEnvironment(eval_py_env)"
   ]
  },
  {
   "cell_type": "code",
   "execution_count": null,
   "metadata": {
    "id": "TgkdEPg_muzV"
   },
   "outputs": [],
   "source": [
    "fc_layer_params = (100, 50)\n",
    "action_tensor_spec = tensor_spec.from_spec(env.action_spec())\n",
    "num_actions = action_tensor_spec.maximum - action_tensor_spec.minimum + 1\n",
    "\n",
    "# Define a helper function to create Dense layers configured with the right\n",
    "# activation and kernel initializer.\n",
    "def dense_layer(num_units):\n",
    "  return tf.keras.layers.Dense(\n",
    "      num_units,\n",
    "      activation=tf.keras.activations.relu,\n",
    "      kernel_initializer=tf.keras.initializers.VarianceScaling(\n",
    "          scale=2.0, mode='fan_in', distribution='truncated_normal'))\n",
    "\n",
    "# QNetwork consists of a sequence of Dense layers followed by a dense layer\n",
    "# with `num_actions` units to generate one q_value per available action as\n",
    "# its output.\n",
    "dense_layers = [dense_layer(num_units) for num_units in fc_layer_params]\n",
    "q_values_layer = tf.keras.layers.Dense(\n",
    "    num_actions,\n",
    "    activation=None,\n",
    "    kernel_initializer=tf.keras.initializers.RandomUniform(\n",
    "        minval=-0.03, maxval=0.03),\n",
    "    bias_initializer=tf.keras.initializers.Constant(-0.2))\n",
    "q_net = sequential.Sequential(dense_layers + [q_values_layer])"
   ]
  },
  {
   "cell_type": "code",
   "execution_count": null,
   "metadata": {
    "id": "jbY4yrjTEyc9"
   },
   "outputs": [],
   "source": [
    "optimizer = tf.keras.optimizers.Adam(learning_rate=learning_rate)\n",
    "\n",
    "train_step_counter = tf.Variable(0)\n",
    "\n",
    "agent = dqn_agent.DqnAgent(\n",
    "    train_env.time_step_spec(),\n",
    "    train_env.action_spec(),\n",
    "    q_network=q_net,\n",
    "    optimizer=optimizer,\n",
    "    td_errors_loss_fn=common.element_wise_squared_loss,\n",
    "    train_step_counter=train_step_counter)\n",
    "\n",
    "agent.initialize()"
   ]
  },
  {
   "cell_type": "code",
   "execution_count": null,
   "metadata": {
    "id": "BwY7StuMkuV4"
   },
   "outputs": [],
   "source": [
    "eval_policy = agent.policy\n",
    "collect_policy = agent.collect_policy"
   ]
  },
  {
   "cell_type": "code",
   "execution_count": null,
   "metadata": {
    "id": "HE37-UCIrE69"
   },
   "outputs": [],
   "source": [
    "random_policy = random_tf_policy.RandomTFPolicy(train_env.time_step_spec(),\n",
    "                                                train_env.action_spec())"
   ]
  },
  {
   "cell_type": "code",
   "execution_count": null,
   "metadata": {
    "id": "5gCcpXswVAxk"
   },
   "outputs": [],
   "source": [
    "example_environment = tf_py_environment.TFPyEnvironment(\n",
    "    suite_gym.load('CartPole-v0'))"
   ]
  },
  {
   "cell_type": "code",
   "execution_count": null,
   "metadata": {
    "id": "D4DHZtq3Ndis"
   },
   "outputs": [],
   "source": [
    "time_step = example_environment.reset()"
   ]
  },
  {
   "cell_type": "code",
   "execution_count": null,
   "metadata": {
    "colab": {
     "base_uri": "https://localhost:8080/"
    },
    "id": "PRFqAUzpNaAW",
    "outputId": "25a4a621-89dd-4d88-a8c2-649048848dbf"
   },
   "outputs": [
    {
     "data": {
      "text/plain": [
       "PolicyStep(action=<tf.Tensor: shape=(1,), dtype=int64, numpy=array([1])>, state=(), info=())"
      ]
     },
     "execution_count": 20,
     "metadata": {},
     "output_type": "execute_result"
    }
   ],
   "source": [
    "random_policy.action(time_step)"
   ]
  },
  {
   "cell_type": "code",
   "execution_count": null,
   "metadata": {
    "id": "bitzHo5_UbXy"
   },
   "outputs": [],
   "source": [
    "#@test {\"skip\": true}\n",
    "def compute_avg_return(environment, policy, num_episodes=10):\n",
    "\n",
    "  total_return = 0.0\n",
    "  for _ in range(num_episodes):\n",
    "\n",
    "    time_step = environment.reset()\n",
    "    episode_return = 0.0\n",
    "\n",
    "    while not time_step.is_last():\n",
    "      action_step = policy.action(time_step)\n",
    "      time_step = environment.step(action_step.action)\n",
    "      episode_return += time_step.reward\n",
    "    total_return += episode_return\n",
    "\n",
    "  avg_return = total_return / num_episodes\n",
    "  return avg_return.numpy()[0]\n",
    "\n",
    "\n",
    "# See also the metrics module for standard implementations of different metrics.\n",
    "# https://github.com/tensorflow/agents/tree/master/tf_agents/metrics"
   ]
  },
  {
   "cell_type": "code",
   "execution_count": null,
   "metadata": {
    "colab": {
     "base_uri": "https://localhost:8080/"
    },
    "id": "9bgU6Q6BZ8Bp",
    "outputId": "b7d92983-0a4d-44f2-c333-003f9de60e14"
   },
   "outputs": [
    {
     "data": {
      "text/plain": [
       "18.8"
      ]
     },
     "execution_count": 22,
     "metadata": {},
     "output_type": "execute_result"
    }
   ],
   "source": [
    "compute_avg_return(eval_env, random_policy, num_eval_episodes)"
   ]
  },
  {
   "cell_type": "code",
   "execution_count": null,
   "metadata": {
    "id": "vX2zGUWJGWAl"
   },
   "outputs": [],
   "source": [
    "table_name = 'uniform_table'\n",
    "replay_buffer_signature = tensor_spec.from_spec(\n",
    "      agent.collect_data_spec)\n",
    "replay_buffer_signature = tensor_spec.add_outer_dim(\n",
    "    replay_buffer_signature)\n",
    "\n",
    "table = reverb.Table(\n",
    "    table_name,\n",
    "    max_size=replay_buffer_max_length,\n",
    "    sampler=reverb.selectors.Uniform(),\n",
    "    remover=reverb.selectors.Fifo(),\n",
    "    rate_limiter=reverb.rate_limiters.MinSize(1),\n",
    "    signature=replay_buffer_signature)\n",
    "\n",
    "reverb_server = reverb.Server([table])\n",
    "\n",
    "replay_buffer = reverb_replay_buffer.ReverbReplayBuffer(\n",
    "    agent.collect_data_spec,\n",
    "    table_name=table_name,\n",
    "    sequence_length=2,\n",
    "    local_server=reverb_server)\n",
    "\n",
    "rb_observer = reverb_utils.ReverbAddTrajectoryObserver(\n",
    "  replay_buffer.py_client,\n",
    "  table_name,\n",
    "  sequence_length=2)"
   ]
  },
  {
   "cell_type": "code",
   "execution_count": null,
   "metadata": {
    "colab": {
     "base_uri": "https://localhost:8080/"
    },
    "id": "_IZ-3HcqgE1z",
    "outputId": "ed1fb780-65b3-43c5-b646-eb14c3316a3c"
   },
   "outputs": [
    {
     "data": {
      "text/plain": [
       "Trajectory(\n",
       "{'action': BoundedTensorSpec(shape=(), dtype=tf.int64, name='action', minimum=array(0), maximum=array(1)),\n",
       " 'discount': BoundedTensorSpec(shape=(), dtype=tf.float32, name='discount', minimum=array(0., dtype=float32), maximum=array(1., dtype=float32)),\n",
       " 'next_step_type': TensorSpec(shape=(), dtype=tf.int32, name='step_type'),\n",
       " 'observation': BoundedTensorSpec(shape=(4,), dtype=tf.float32, name='observation', minimum=array([-4.8000002e+00, -3.4028235e+38, -4.1887903e-01, -3.4028235e+38],\n",
       "      dtype=float32), maximum=array([4.8000002e+00, 3.4028235e+38, 4.1887903e-01, 3.4028235e+38],\n",
       "      dtype=float32)),\n",
       " 'policy_info': (),\n",
       " 'reward': TensorSpec(shape=(), dtype=tf.float32, name='reward'),\n",
       " 'step_type': TensorSpec(shape=(), dtype=tf.int32, name='step_type')})"
      ]
     },
     "execution_count": 24,
     "metadata": {},
     "output_type": "execute_result"
    }
   ],
   "source": [
    "agent.collect_data_spec"
   ]
  },
  {
   "cell_type": "code",
   "execution_count": null,
   "metadata": {
    "colab": {
     "base_uri": "https://localhost:8080/"
    },
    "id": "sy6g1tGcfRlw",
    "outputId": "437dd0c2-7172-4ca9-ac95-737626a4b322"
   },
   "outputs": [
    {
     "data": {
      "text/plain": [
       "('step_type',\n",
       " 'observation',\n",
       " 'action',\n",
       " 'policy_info',\n",
       " 'next_step_type',\n",
       " 'reward',\n",
       " 'discount')"
      ]
     },
     "execution_count": 25,
     "metadata": {},
     "output_type": "execute_result"
    }
   ],
   "source": [
    "agent.collect_data_spec._fields"
   ]
  },
  {
   "cell_type": "code",
   "execution_count": null,
   "metadata": {
    "colab": {
     "base_uri": "https://localhost:8080/"
    },
    "id": "wr1KSAEGG4h9",
    "outputId": "ba8b07a1-441e-4ceb-fe42-7f71753078bf"
   },
   "outputs": [
    {
     "data": {
      "text/plain": [
       "(TimeStep(\n",
       " {'discount': array(1., dtype=float32),\n",
       "  'observation': array([-0.05042205, -0.04187205, -0.00393794, -0.02166793], dtype=float32),\n",
       "  'reward': array(1., dtype=float32),\n",
       "  'step_type': array(1, dtype=int32)}), ())"
      ]
     },
     "execution_count": 26,
     "metadata": {},
     "output_type": "execute_result"
    }
   ],
   "source": [
    "#@test {\"skip\": true}\n",
    "py_driver.PyDriver(\n",
    "    env,\n",
    "    py_tf_eager_policy.PyTFEagerPolicy(\n",
    "      random_policy, use_tf_function=True),\n",
    "    [rb_observer],\n",
    "    max_steps=initial_collect_steps).run(train_py_env.reset())"
   ]
  },
  {
   "cell_type": "code",
   "execution_count": null,
   "metadata": {
    "colab": {
     "base_uri": "https://localhost:8080/"
    },
    "id": "ba7bilizt_qW",
    "outputId": "a060a278-f66a-4589-9ff2-123a785ef6df"
   },
   "outputs": [
    {
     "data": {
      "text/plain": [
       "<PrefetchDataset element_spec=(Trajectory(\n",
       "{'action': TensorSpec(shape=(64, 2), dtype=tf.int64, name=None),\n",
       " 'discount': TensorSpec(shape=(64, 2), dtype=tf.float32, name=None),\n",
       " 'next_step_type': TensorSpec(shape=(64, 2), dtype=tf.int32, name=None),\n",
       " 'observation': TensorSpec(shape=(64, 2, 4), dtype=tf.float32, name=None),\n",
       " 'policy_info': (),\n",
       " 'reward': TensorSpec(shape=(64, 2), dtype=tf.float32, name=None),\n",
       " 'step_type': TensorSpec(shape=(64, 2), dtype=tf.int32, name=None)}), SampleInfo(key=TensorSpec(shape=(64, 2), dtype=tf.uint64, name=None), probability=TensorSpec(shape=(64, 2), dtype=tf.float64, name=None), table_size=TensorSpec(shape=(64, 2), dtype=tf.int64, name=None), priority=TensorSpec(shape=(64, 2), dtype=tf.float64, name=None), times_sampled=TensorSpec(shape=(64, 2), dtype=tf.int32, name=None)))>"
      ]
     },
     "execution_count": 27,
     "metadata": {},
     "output_type": "execute_result"
    }
   ],
   "source": [
    "# Dataset generates trajectories with shape [Bx2x...]\n",
    "dataset = replay_buffer.as_dataset(\n",
    "    num_parallel_calls=3,\n",
    "    sample_batch_size=batch_size,\n",
    "    num_steps=2).prefetch(3)\n",
    "\n",
    "dataset"
   ]
  },
  {
   "cell_type": "code",
   "execution_count": null,
   "metadata": {
    "colab": {
     "base_uri": "https://localhost:8080/"
    },
    "id": "K13AST-2ppOq",
    "outputId": "f1fe05d1-18a0-4239-f5c9-a1e7f6333bb9"
   },
   "outputs": [
    {
     "name": "stdout",
     "output_type": "stream",
     "text": [
      "<tensorflow.python.data.ops.iterator_ops.OwnedIterator object at 0x7f81cc71eb10>\n"
     ]
    }
   ],
   "source": [
    "iterator = iter(dataset)\n",
    "print(iterator)"
   ]
  },
  {
   "cell_type": "code",
   "execution_count": null,
   "metadata": {
    "colab": {
     "base_uri": "https://localhost:8080/"
    },
    "id": "0pTbJ3PeyF-u",
    "outputId": "b0b50714-3cfc-4362-8a4d-964d9eac457e"
   },
   "outputs": [
    {
     "name": "stderr",
     "output_type": "stream",
     "text": [
      "WARNING:tensorflow:From /usr/local/lib/python3.7/dist-packages/tensorflow/python/util/dispatch.py:1082: calling foldr_v2 (from tensorflow.python.ops.functional_ops) with back_prop=False is deprecated and will be removed in a future version.\n",
      "Instructions for updating:\n",
      "back_prop=False is deprecated. Consider using tf.stop_gradient instead.\n",
      "Instead of:\n",
      "results = tf.foldr(fn, elems, back_prop=False)\n",
      "Use:\n",
      "results = tf.nest.map_structure(tf.stop_gradient, tf.foldr(fn, elems))\n"
     ]
    },
    {
     "name": "stdout",
     "output_type": "stream",
     "text": [
      "step = 200: loss = 52.587039947509766\n",
      "step = 400: loss = 5.857670783996582\n",
      "step = 600: loss = 15.97494125366211\n",
      "step = 800: loss = 11.986127853393555\n",
      "step = 1000: loss = 14.313813209533691\n",
      "step = 1000: Average Return = 47.599998474121094\n",
      "step = 1200: loss = 19.77214813232422\n",
      "step = 1400: loss = 155.13821411132812\n",
      "step = 1600: loss = 23.551212310791016\n",
      "step = 1800: loss = 514.77734375\n",
      "step = 2000: loss = 60.23005676269531\n",
      "step = 2000: Average Return = 93.5999984741211\n",
      "step = 2200: loss = 204.23097229003906\n",
      "step = 2400: loss = 32.1274299621582\n",
      "step = 2600: loss = 17.705032348632812\n",
      "step = 2800: loss = 35.67481231689453\n",
      "step = 3000: loss = 74.47189331054688\n",
      "step = 3000: Average Return = 155.5\n",
      "step = 3200: loss = 11.142069816589355\n",
      "step = 3400: loss = 18.068222045898438\n",
      "step = 3600: loss = 25.629581451416016\n",
      "step = 3800: loss = 110.0626220703125\n",
      "step = 4000: loss = 255.35922241210938\n",
      "step = 4000: Average Return = 180.3000030517578\n",
      "step = 4200: loss = 191.53770446777344\n",
      "step = 4400: loss = 94.97804260253906\n",
      "step = 4600: loss = 87.02256774902344\n",
      "step = 4800: loss = 208.25485229492188\n",
      "step = 5000: loss = 601.4927978515625\n",
      "step = 5000: Average Return = 187.3000030517578\n",
      "step = 5200: loss = 498.86083984375\n",
      "step = 5400: loss = 172.7159423828125\n",
      "step = 5600: loss = 160.8912353515625\n",
      "step = 5800: loss = 134.55612182617188\n",
      "step = 6000: loss = 273.7067565917969\n",
      "step = 6000: Average Return = 200.0\n",
      "step = 6200: loss = 385.739013671875\n",
      "step = 6400: loss = 347.15447998046875\n",
      "step = 6600: loss = 413.0966491699219\n",
      "step = 6800: loss = 752.8684692382812\n",
      "step = 7000: loss = 666.4384765625\n",
      "step = 7000: Average Return = 200.0\n",
      "step = 7200: loss = 369.6946716308594\n",
      "step = 7400: loss = 837.5308837890625\n",
      "step = 7600: loss = 1691.97216796875\n",
      "step = 7800: loss = 1691.225830078125\n",
      "step = 8000: loss = 2719.525390625\n",
      "step = 8000: Average Return = 200.0\n",
      "step = 8200: loss = 1302.726318359375\n",
      "step = 8400: loss = 3162.7421875\n",
      "step = 8600: loss = 2144.976318359375\n",
      "step = 8800: loss = 4067.49560546875\n",
      "step = 9000: loss = 12805.017578125\n",
      "step = 9000: Average Return = 200.0\n",
      "step = 9200: loss = 18542.73046875\n",
      "step = 9400: loss = 16881.3984375\n",
      "step = 9600: loss = 35737.12890625\n",
      "step = 9800: loss = 57669.1328125\n",
      "step = 10000: loss = 51743.34375\n",
      "step = 10000: Average Return = 200.0\n",
      "step = 10200: loss = 47406.046875\n",
      "step = 10400: loss = 138999.65625\n",
      "step = 10600: loss = 87431.3671875\n",
      "step = 10800: loss = 183543.1875\n",
      "step = 11000: loss = 121455.8515625\n",
      "step = 11000: Average Return = 200.0\n",
      "step = 11200: loss = 300441.9375\n",
      "step = 11400: loss = 617904.6875\n",
      "step = 11600: loss = 615654.75\n",
      "step = 11800: loss = 509592.8125\n",
      "step = 12000: loss = 516088.875\n",
      "step = 12000: Average Return = 200.0\n",
      "step = 12200: loss = 10524566.0\n",
      "step = 12400: loss = 822341.75\n",
      "step = 12600: loss = 604896.6875\n",
      "step = 12800: loss = 1125280.0\n",
      "step = 13000: loss = 578442.125\n",
      "step = 13000: Average Return = 200.0\n",
      "step = 13200: loss = 16132936.0\n",
      "step = 13400: loss = 880525.375\n",
      "step = 13600: loss = 1401337.875\n",
      "step = 13800: loss = 1124369.75\n",
      "step = 14000: loss = 1302776.0\n",
      "step = 14000: Average Return = 200.0\n",
      "step = 14200: loss = 734141.625\n",
      "step = 14400: loss = 1155513.0\n",
      "step = 14600: loss = 1468470.125\n",
      "step = 14800: loss = 1703450.25\n",
      "step = 15000: loss = 2486103.5\n",
      "step = 15000: Average Return = 200.0\n",
      "step = 15200: loss = 1793963.25\n",
      "step = 15400: loss = 63849504.0\n",
      "step = 15600: loss = 2555376.5\n",
      "step = 15800: loss = 6963079.5\n",
      "step = 16000: loss = 2766884.25\n",
      "step = 16000: Average Return = 200.0\n",
      "step = 16200: loss = 4107553.5\n",
      "step = 16400: loss = 3415422.25\n",
      "step = 16600: loss = 5209739.5\n",
      "step = 16800: loss = 5380040.0\n",
      "step = 17000: loss = 5672790.0\n",
      "step = 17000: Average Return = 200.0\n",
      "step = 17200: loss = 5163876.0\n",
      "step = 17400: loss = 144731296.0\n",
      "step = 17600: loss = 5705136.0\n",
      "step = 17800: loss = 7035820.0\n",
      "step = 18000: loss = 7130852.0\n",
      "step = 18000: Average Return = 200.0\n",
      "step = 18200: loss = 4355181.0\n",
      "step = 18400: loss = 5809263.5\n",
      "step = 18600: loss = 8663690.0\n",
      "step = 18800: loss = 13263641.0\n",
      "step = 19000: loss = 16852198.0\n",
      "step = 19000: Average Return = 200.0\n",
      "step = 19200: loss = 5181008.0\n",
      "step = 19400: loss = 14653330.0\n",
      "step = 19600: loss = 17168796.0\n",
      "step = 19800: loss = 12519049.0\n",
      "step = 20000: loss = 12976400.0\n",
      "step = 20000: Average Return = 200.0\n"
     ]
    }
   ],
   "source": [
    "#@test {\"skip\": true}\n",
    "try:\n",
    "  %%time\n",
    "except:\n",
    "  pass\n",
    "\n",
    "# (Optional) Optimize by wrapping some of the code in a graph using TF function.\n",
    "agent.train = common.function(agent.train)\n",
    "\n",
    "# Reset the train step.\n",
    "agent.train_step_counter.assign(0)\n",
    "\n",
    "# Evaluate the agent's policy once before training.\n",
    "avg_return = compute_avg_return(eval_env, agent.policy, num_eval_episodes)\n",
    "returns = [avg_return]\n",
    "\n",
    "# Reset the environment.\n",
    "time_step = train_py_env.reset()\n",
    "\n",
    "# Create a driver to collect experience.\n",
    "collect_driver = py_driver.PyDriver(\n",
    "    env,\n",
    "    py_tf_eager_policy.PyTFEagerPolicy(\n",
    "      agent.collect_policy, use_tf_function=True),\n",
    "    [rb_observer],\n",
    "    max_steps=collect_steps_per_iteration)\n",
    "\n",
    "for _ in range(num_iterations):\n",
    "\n",
    "  # Collect a few steps and save to the replay buffer.\n",
    "  time_step, _ = collect_driver.run(time_step)\n",
    "\n",
    "  # Sample a batch of data from the buffer and update the agent's network.\n",
    "  experience, unused_info = next(iterator)\n",
    "  train_loss = agent.train(experience).loss\n",
    "\n",
    "  step = agent.train_step_counter.numpy()\n",
    "\n",
    "  if step % log_interval == 0:\n",
    "    print('step = {0}: loss = {1}'.format(step, train_loss))\n",
    "\n",
    "  if step % eval_interval == 0:\n",
    "    avg_return = compute_avg_return(eval_env, agent.policy, num_eval_episodes)\n",
    "    print('step = {0}: Average Return = {1}'.format(step, avg_return))\n",
    "    returns.append(avg_return)"
   ]
  },
  {
   "cell_type": "code",
   "execution_count": null,
   "metadata": {
    "colab": {
     "base_uri": "https://localhost:8080/",
     "height": 300
    },
    "id": "NxtL1mbOYCVO",
    "outputId": "1f52530e-9b47-42de-bde8-b135d7218abb"
   },
   "outputs": [
    {
     "data": {
      "text/plain": [
       "(9.739999198913575, 250.0)"
      ]
     },
     "execution_count": 30,
     "metadata": {},
     "output_type": "execute_result"
    },
    {
     "data": {
      "image/png": "[encoded data removed]",
      "text/plain": [
       "<Figure size 432x288 with 1 Axes>"
      ]
     },
     "metadata": {
      "needs_background": "light"
     },
     "output_type": "display_data"
    }
   ],
   "source": [
    "#@test {\"skip\": true}\n",
    "\n",
    "iterations = range(0, num_iterations + 1, eval_interval)\n",
    "plt.plot(iterations, returns)\n",
    "plt.ylabel('Average Return')\n",
    "plt.xlabel('Iterations')\n",
    "plt.ylim(top=250)"
   ]
  },
  {
   "cell_type": "code",
   "execution_count": null,
   "metadata": {
    "id": "ULaGr8pvOKbl"
   },
   "outputs": [],
   "source": [
    "def embed_mp4(filename):\n",
    "  \"\"\"Embeds an mp4 file in the notebook.\"\"\"\n",
    "  video = open(filename,'rb').read()\n",
    "  b64 = base64.b64encode(video)\n",
    "  tag = '''\n",
    "  <video width=\"640\" height=\"480\" controls>\n",
    "    <source src=\"data:video/mp4;base64,{0}\" type=\"video/mp4\">\n",
    "  Your browser does not support the video tag.\n",
    "  </video>'''.format(b64.decode())\n",
    "\n",
    "  return IPython.display.HTML(tag)"
   ]
  },
  {
   "cell_type": "code",
   "execution_count": null,
   "metadata": {
    "colab": {
     "base_uri": "https://localhost:8080/",
     "height": 539
    },
    "id": "owOVWB158NlF",
    "outputId": "303557f5-c60c-4055-a911-ab1eff97437a"
   },
   "outputs": [
    {
     "name": "stderr",
     "output_type": "stream",
     "text": [
      "WARNING:root:IMAGEIO FFMPEG_WRITER WARNING: input image is not divisible by macro_block_size=16, resizing from (400, 600) to (400, 608) to ensure video compatibility with most codecs and players. To prevent resizing, make your input image divisible by the macro_block_size or set the macro_block_size to None (risking incompatibility). You may also see a FFMPEG warning concerning speedloss due to data not being aligned.\n"
     ]
    },
    {
     "data": {
      "text/html": [
       "\n",
       "  <video width=\"640\" height=\"480\" controls>\n",
       "    <source src=\"data:video/mp4;base64,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\" type=\"video/mp4\">\n",
       "  Your browser does not support the video tag.\n",
       "  </video>"
      ],
      "text/plain": [
       "<IPython.core.display.HTML object>"
      ]
     },
     "execution_count": 32,
     "metadata": {},
     "output_type": "execute_result"
    }
   ],
   "source": [
    "def create_policy_eval_video(policy, filename, num_episodes=5, fps=30):\n",
    "  filename = filename + \".mp4\"\n",
    "  with imageio.get_writer(filename, fps=fps) as video:\n",
    "    for _ in range(num_episodes):\n",
    "      time_step = eval_env.reset()\n",
    "      video.append_data(eval_py_env.render())\n",
    "      while not time_step.is_last():\n",
    "        action_step = policy.action(time_step)\n",
    "        time_step = eval_env.step(action_step.action)\n",
    "        video.append_data(eval_py_env.render())\n",
    "  return embed_mp4(filename)\n",
    "\n",
    "create_policy_eval_video(agent.policy, \"trained-agent\")"
   ]
  },
  {
   "cell_type": "code",
   "execution_count": null,
   "metadata": {
    "colab": {
     "base_uri": "https://localhost:8080/",
     "height": 539
    },
    "id": "pJZIdC37yNH4",
    "outputId": "178789f2-7f9d-4d2c-c21e-8bd0220630ed"
   },
   "outputs": [
    {
     "name": "stderr",
     "output_type": "stream",
     "text": [
      "WARNING:root:IMAGEIO FFMPEG_WRITER WARNING: input image is not divisible by macro_block_size=16, resizing from (400, 600) to (400, 608) to ensure video compatibility with most codecs and players. To prevent resizing, make your input image divisible by the macro_block_size or set the macro_block_size to None (risking incompatibility). You may also see a FFMPEG warning concerning speedloss due to data not being aligned.\n"
     ]
    },
    {
     "data": {
      "text/html": [
       "\n",
       "  <video width=\"640\" height=\"480\" controls>\n",
       "    <source src=\"data:video/mp4;base64,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\" type=\"video/mp4\">\n",
       "  Your browser does not support the video tag.\n",
       "  </video>"
      ],
      "text/plain": [
       "<IPython.core.display.HTML object>"
      ]
     },
     "execution_count": 33,
     "metadata": {},
     "output_type": "execute_result"
    }
   ],
   "source": [
    "create_policy_eval_video(random_policy, \"random-agent\")"
   ]
  },
  {
   "cell_type": "code",
   "execution_count": null,
   "metadata": {
    "colab": {
     "base_uri": "https://localhost:8080/"
    },
    "id": "Ckq6WG-seC7F",
    "outputId": "6ef82371-41b5-4c7b-f2a9-4033cbc3e72e"
   },
   "outputs": [
    {
     "name": "stdout",
     "output_type": "stream",
     "text": [
      "Looking in indexes: https://pypi.org/simple, https://us-python.pkg.dev/colab-wheels/public/simple/\n",
      "Requirement already satisfied: dopamine-rl in /usr/local/lib/python3.7/dist-packages (1.0.5)\n",
      "Collecting dopamine-rl\n",
      "  Downloading dopamine_rl-4.0.5-py3-none-any.whl (174 kB)\n",
      "\u001b[K     |████████████████████████████████| 174 kB 4.7 MB/s \n",
      "\u001b[?25hCollecting tf-slim>=1.0\n",
      "  Downloading tf_slim-1.1.0-py2.py3-none-any.whl (352 kB)\n",
      "\u001b[K     |████████████████████████████████| 352 kB 36.9 MB/s \n",
      "\u001b[?25hRequirement already satisfied: pandas>=0.24.2 in /usr/local/lib/python3.7/dist-packages (from dopamine-rl) (1.3.5)\n",
      "Requirement already satisfied: jax>=0.1.72 in /usr/local/lib/python3.7/dist-packages (from dopamine-rl) (0.3.14)\n",
      "Requirement already satisfied: numpy>=1.16.4 in /usr/local/lib/python3.7/dist-packages (from dopamine-rl) (1.21.6)\n",
      "Requirement already satisfied: pygame>=1.9.2 in /usr/local/lib/python3.7/dist-packages (from dopamine-rl) (2.1.0)\n",
      "Requirement already satisfied: jaxlib>=0.1.51 in /usr/local/lib/python3.7/dist-packages (from dopamine-rl) (0.3.14+cuda11.cudnn805)\n",
      "Requirement already satisfied: gin-config>=0.3.0 in /usr/local/lib/python3.7/dist-packages (from dopamine-rl) (0.5.0)\n",
      "Requirement already satisfied: opencv-python>=3.4.8.29 in /usr/local/lib/python3.7/dist-packages (from dopamine-rl) (4.6.0.66)\n",
      "Requirement already satisfied: Pillow>=7.0.0 in /usr/local/lib/python3.7/dist-packages (from dopamine-rl) (7.1.2)\n",
      "Requirement already satisfied: tensorflow-probability>=0.13.0 in /usr/local/lib/python3.7/dist-packages (from dopamine-rl) (0.16.0)\n",
      "Requirement already satisfied: tensorflow>=2.2.0 in /usr/local/lib/python3.7/dist-packages (from dopamine-rl) (2.9.1)\n",
      "Collecting flax>=0.2.0\n",
      "  Downloading flax-0.5.3-py3-none-any.whl (202 kB)\n",
      "\u001b[K     |████████████████████████████████| 202 kB 41.6 MB/s \n",
      "\u001b[?25hRequirement already satisfied: gym[atari]>=0.13.1 in /usr/local/lib/python3.7/dist-packages (from dopamine-rl) (0.17.3)\n",
      "Requirement already satisfied: absl-py>=0.9.0 in /usr/local/lib/python3.7/dist-packages (from dopamine-rl) (1.2.0)\n",
      "Collecting PyYAML>=5.4.1\n",
      "  Downloading PyYAML-6.0-cp37-cp37m-manylinux_2_5_x86_64.manylinux1_x86_64.manylinux_2_12_x86_64.manylinux2010_x86_64.whl (596 kB)\n",
      "\u001b[K     |████████████████████████████████| 596 kB 36.1 MB/s \n",
      "\u001b[?25hRequirement already satisfied: msgpack in /usr/local/lib/python3.7/dist-packages (from flax>=0.2.0->dopamine-rl) (1.0.4)\n",
      "Collecting tensorstore\n",
      "  Downloading tensorstore-0.1.22-cp37-cp37m-manylinux_2_17_x86_64.manylinux2014_x86_64.whl (7.5 MB)\n",
      "\u001b[K     |████████████████████████████████| 7.5 MB 38.2 MB/s \n",
      "\u001b[?25hCollecting rich~=11.1\n",
      "  Downloading rich-11.2.0-py3-none-any.whl (217 kB)\n",
      "\u001b[K     |████████████████████████████████| 217 kB 23.7 MB/s \n",
      "\u001b[?25hRequirement already satisfied: matplotlib in /usr/local/lib/python3.7/dist-packages (from flax>=0.2.0->dopamine-rl) (3.2.2)\n",
      "Collecting optax\n",
      "  Downloading optax-0.1.3-py3-none-any.whl (145 kB)\n",
      "\u001b[K     |████████████████████████████████| 145 kB 43.5 MB/s \n",
      "\u001b[?25hRequirement already satisfied: typing-extensions>=4.1.1 in /usr/local/lib/python3.7/dist-packages (from flax>=0.2.0->dopamine-rl) (4.1.1)\n",
      "Requirement already satisfied: pyglet<=1.5.0,>=1.4.0 in /usr/local/lib/python3.7/dist-packages (from gym[atari]>=0.13.1->dopamine-rl) (1.5.0)\n",
      "Requirement already satisfied: cloudpickle<1.7.0,>=1.2.0 in /usr/local/lib/python3.7/dist-packages (from gym[atari]>=0.13.1->dopamine-rl) (1.3.0)\n",
      "Requirement already satisfied: scipy in /usr/local/lib/python3.7/dist-packages (from gym[atari]>=0.13.1->dopamine-rl) (1.7.3)\n",
      "Requirement already satisfied: atari-py~=0.2.0 in /usr/local/lib/python3.7/dist-packages (from gym[atari]>=0.13.1->dopamine-rl) (0.2.9)\n",
      "Requirement already satisfied: six in /usr/local/lib/python3.7/dist-packages (from atari-py~=0.2.0->gym[atari]>=0.13.1->dopamine-rl) (1.15.0)\n",
      "Requirement already satisfied: etils[epath] in /usr/local/lib/python3.7/dist-packages (from jax>=0.1.72->dopamine-rl) (0.7.1)\n",
      "Requirement already satisfied: opt-einsum in /usr/local/lib/python3.7/dist-packages (from jax>=0.1.72->dopamine-rl) (3.3.0)\n",
      "Requirement already satisfied: flatbuffers<3.0,>=1.12 in /usr/local/lib/python3.7/dist-packages (from jaxlib>=0.1.51->dopamine-rl) (1.12)\n",
      "Requirement already satisfied: python-dateutil>=2.7.3 in /usr/local/lib/python3.7/dist-packages (from pandas>=0.24.2->dopamine-rl) (2.8.2)\n",
      "Requirement already satisfied: pytz>=2017.3 in /usr/local/lib/python3.7/dist-packages (from pandas>=0.24.2->dopamine-rl) (2022.1)\n",
      "Requirement already satisfied: future in /usr/local/lib/python3.7/dist-packages (from pyglet<=1.5.0,>=1.4.0->gym[atari]>=0.13.1->dopamine-rl) (0.16.0)\n",
      "Requirement already satisfied: pygments<3.0.0,>=2.6.0 in /usr/local/lib/python3.7/dist-packages (from rich~=11.1->flax>=0.2.0->dopamine-rl) (2.6.1)\n",
      "Collecting commonmark<0.10.0,>=0.9.0\n",
      "  Downloading commonmark-0.9.1-py2.py3-none-any.whl (51 kB)\n",
      "\u001b[K     |████████████████████████████████| 51 kB 6.7 MB/s \n",
      "\u001b[?25hCollecting colorama<0.5.0,>=0.4.0\n",
      "  Downloading colorama-0.4.5-py2.py3-none-any.whl (16 kB)\n",
      "Requirement already satisfied: keras<2.10.0,>=2.9.0rc0 in /usr/local/lib/python3.7/dist-packages (from tensorflow>=2.2.0->dopamine-rl) (2.9.0)\n",
      "Requirement already satisfied: grpcio<2.0,>=1.24.3 in /usr/local/lib/python3.7/dist-packages (from tensorflow>=2.2.0->dopamine-rl) (1.47.0)\n",
      "Requirement already satisfied: packaging in /usr/local/lib/python3.7/dist-packages (from tensorflow>=2.2.0->dopamine-rl) (21.3)\n",
      "Requirement already satisfied: libclang>=13.0.0 in /usr/local/lib/python3.7/dist-packages (from tensorflow>=2.2.0->dopamine-rl) (14.0.6)\n",
      "Requirement already satisfied: tensorboard<2.10,>=2.9 in /usr/local/lib/python3.7/dist-packages (from tensorflow>=2.2.0->dopamine-rl) (2.9.1)\n",
      "Requirement already satisfied: tensorflow-io-gcs-filesystem>=0.23.1 in /usr/local/lib/python3.7/dist-packages (from tensorflow>=2.2.0->dopamine-rl) (0.26.0)\n",
      "Requirement already satisfied: h5py>=2.9.0 in /usr/local/lib/python3.7/dist-packages (from tensorflow>=2.2.0->dopamine-rl) (3.1.0)\n",
      "Requirement already satisfied: termcolor>=1.1.0 in /usr/local/lib/python3.7/dist-packages (from tensorflow>=2.2.0->dopamine-rl) (1.1.0)\n",
      "Requirement already satisfied: setuptools in /usr/local/lib/python3.7/dist-packages (from tensorflow>=2.2.0->dopamine-rl) (57.4.0)\n",
      "Requirement already satisfied: tensorflow-estimator<2.10.0,>=2.9.0rc0 in /usr/local/lib/python3.7/dist-packages (from tensorflow>=2.2.0->dopamine-rl) (2.9.0)\n",
      "Requirement already satisfied: protobuf<3.20,>=3.9.2 in /usr/local/lib/python3.7/dist-packages (from tensorflow>=2.2.0->dopamine-rl) (3.17.3)\n",
      "Requirement already satisfied: gast<=0.4.0,>=0.2.1 in /usr/local/lib/python3.7/dist-packages (from tensorflow>=2.2.0->dopamine-rl) (0.4.0)\n",
      "Requirement already satisfied: astunparse>=1.6.0 in /usr/local/lib/python3.7/dist-packages (from tensorflow>=2.2.0->dopamine-rl) (1.6.3)\n",
      "Requirement already satisfied: keras-preprocessing>=1.1.1 in /usr/local/lib/python3.7/dist-packages (from tensorflow>=2.2.0->dopamine-rl) (1.1.2)\n",
      "Requirement already satisfied: wrapt>=1.11.0 in /usr/local/lib/python3.7/dist-packages (from tensorflow>=2.2.0->dopamine-rl) (1.14.1)\n",
      "Requirement already satisfied: google-pasta>=0.1.1 in /usr/local/lib/python3.7/dist-packages (from tensorflow>=2.2.0->dopamine-rl) (0.2.0)\n",
      "Requirement already satisfied: wheel<1.0,>=0.23.0 in /usr/local/lib/python3.7/dist-packages (from astunparse>=1.6.0->tensorflow>=2.2.0->dopamine-rl) (0.37.1)\n",
      "Requirement already satisfied: cached-property in /usr/local/lib/python3.7/dist-packages (from h5py>=2.9.0->tensorflow>=2.2.0->dopamine-rl) (1.5.2)\n",
      "Requirement already satisfied: werkzeug>=1.0.1 in /usr/local/lib/python3.7/dist-packages (from tensorboard<2.10,>=2.9->tensorflow>=2.2.0->dopamine-rl) (1.0.1)\n",
      "Requirement already satisfied: markdown>=2.6.8 in /usr/local/lib/python3.7/dist-packages (from tensorboard<2.10,>=2.9->tensorflow>=2.2.0->dopamine-rl) (3.4.1)\n",
      "Requirement already satisfied: tensorboard-plugin-wit>=1.6.0 in /usr/local/lib/python3.7/dist-packages (from tensorboard<2.10,>=2.9->tensorflow>=2.2.0->dopamine-rl) (1.8.1)\n",
      "Requirement already satisfied: requests<3,>=2.21.0 in /usr/local/lib/python3.7/dist-packages (from tensorboard<2.10,>=2.9->tensorflow>=2.2.0->dopamine-rl) (2.23.0)\n",
      "Requirement already satisfied: google-auth-oauthlib<0.5,>=0.4.1 in /usr/local/lib/python3.7/dist-packages (from tensorboard<2.10,>=2.9->tensorflow>=2.2.0->dopamine-rl) (0.4.6)\n",
      "Requirement already satisfied: tensorboard-data-server<0.7.0,>=0.6.0 in /usr/local/lib/python3.7/dist-packages (from tensorboard<2.10,>=2.9->tensorflow>=2.2.0->dopamine-rl) (0.6.1)\n",
      "Requirement already satisfied: google-auth<3,>=1.6.3 in /usr/local/lib/python3.7/dist-packages (from tensorboard<2.10,>=2.9->tensorflow>=2.2.0->dopamine-rl) (1.35.0)\n",
      "Requirement already satisfied: cachetools<5.0,>=2.0.0 in /usr/local/lib/python3.7/dist-packages (from google-auth<3,>=1.6.3->tensorboard<2.10,>=2.9->tensorflow>=2.2.0->dopamine-rl) (4.2.4)\n",
      "Requirement already satisfied: rsa<5,>=3.1.4 in /usr/local/lib/python3.7/dist-packages (from google-auth<3,>=1.6.3->tensorboard<2.10,>=2.9->tensorflow>=2.2.0->dopamine-rl) (4.9)\n",
      "Requirement already satisfied: pyasn1-modules>=0.2.1 in /usr/local/lib/python3.7/dist-packages (from google-auth<3,>=1.6.3->tensorboard<2.10,>=2.9->tensorflow>=2.2.0->dopamine-rl) (0.2.8)\n",
      "Requirement already satisfied: requests-oauthlib>=0.7.0 in /usr/local/lib/python3.7/dist-packages (from google-auth-oauthlib<0.5,>=0.4.1->tensorboard<2.10,>=2.9->tensorflow>=2.2.0->dopamine-rl) (1.3.1)\n",
      "Requirement already satisfied: importlib-metadata>=4.4 in /usr/local/lib/python3.7/dist-packages (from markdown>=2.6.8->tensorboard<2.10,>=2.9->tensorflow>=2.2.0->dopamine-rl) (4.12.0)\n",
      "Requirement already satisfied: zipp>=0.5 in /usr/local/lib/python3.7/dist-packages (from importlib-metadata>=4.4->markdown>=2.6.8->tensorboard<2.10,>=2.9->tensorflow>=2.2.0->dopamine-rl) (3.8.1)\n",
      "Requirement already satisfied: pyasn1<0.5.0,>=0.4.6 in /usr/local/lib/python3.7/dist-packages (from pyasn1-modules>=0.2.1->google-auth<3,>=1.6.3->tensorboard<2.10,>=2.9->tensorflow>=2.2.0->dopamine-rl) (0.4.8)\n",
      "Requirement already satisfied: chardet<4,>=3.0.2 in /usr/local/lib/python3.7/dist-packages (from requests<3,>=2.21.0->tensorboard<2.10,>=2.9->tensorflow>=2.2.0->dopamine-rl) (3.0.4)\n",
      "Requirement already satisfied: certifi>=2017.4.17 in /usr/local/lib/python3.7/dist-packages (from requests<3,>=2.21.0->tensorboard<2.10,>=2.9->tensorflow>=2.2.0->dopamine-rl) (2022.6.15)\n",
      "Requirement already satisfied: urllib3!=1.25.0,!=1.25.1,<1.26,>=1.21.1 in /usr/local/lib/python3.7/dist-packages (from requests<3,>=2.21.0->tensorboard<2.10,>=2.9->tensorflow>=2.2.0->dopamine-rl) (1.24.3)\n",
      "Requirement already satisfied: idna<3,>=2.5 in /usr/local/lib/python3.7/dist-packages (from requests<3,>=2.21.0->tensorboard<2.10,>=2.9->tensorflow>=2.2.0->dopamine-rl) (2.10)\n",
      "Requirement already satisfied: oauthlib>=3.0.0 in /usr/local/lib/python3.7/dist-packages (from requests-oauthlib>=0.7.0->google-auth-oauthlib<0.5,>=0.4.1->tensorboard<2.10,>=2.9->tensorflow>=2.2.0->dopamine-rl) (3.2.0)\n",
      "Requirement already satisfied: decorator in /usr/local/lib/python3.7/dist-packages (from tensorflow-probability>=0.13.0->dopamine-rl) (4.4.2)\n",
      "Requirement already satisfied: dm-tree in /usr/local/lib/python3.7/dist-packages (from tensorflow-probability>=0.13.0->dopamine-rl) (0.1.7)\n",
      "Requirement already satisfied: importlib_resources in /usr/local/lib/python3.7/dist-packages (from etils[epath]->jax>=0.1.72->dopamine-rl) (5.9.0)\n",
      "Requirement already satisfied: pyparsing!=2.0.4,!=2.1.2,!=2.1.6,>=2.0.1 in /usr/local/lib/python3.7/dist-packages (from matplotlib->flax>=0.2.0->dopamine-rl) (3.0.9)\n",
      "Requirement already satisfied: cycler>=0.10 in /usr/local/lib/python3.7/dist-packages (from matplotlib->flax>=0.2.0->dopamine-rl) (0.11.0)\n",
      "Requirement already satisfied: kiwisolver>=1.0.1 in /usr/local/lib/python3.7/dist-packages (from matplotlib->flax>=0.2.0->dopamine-rl) (1.4.4)\n",
      "Collecting chex>=0.0.4\n",
      "  Downloading chex-0.1.4-py3-none-any.whl (76 kB)\n",
      "\u001b[K     |████████████████████████████████| 76 kB 5.2 MB/s \n",
      "\u001b[?25hRequirement already satisfied: toolz>=0.9.0 in /usr/local/lib/python3.7/dist-packages (from chex>=0.0.4->optax->flax>=0.2.0->dopamine-rl) (0.12.0)\n",
      "Installing collected packages: commonmark, colorama, chex, tensorstore, rich, PyYAML, optax, tf-slim, flax, dopamine-rl\n",
      "  Attempting uninstall: PyYAML\n",
      "    Found existing installation: PyYAML 3.13\n",
      "    Uninstalling PyYAML-3.13:\n",
      "      Successfully uninstalled PyYAML-3.13\n",
      "  Attempting uninstall: dopamine-rl\n",
      "    Found existing installation: dopamine-rl 1.0.5\n",
      "    Uninstalling dopamine-rl-1.0.5:\n",
      "      Successfully uninstalled dopamine-rl-1.0.5\n",
      "Successfully installed PyYAML-6.0 chex-0.1.4 colorama-0.4.5 commonmark-0.9.1 dopamine-rl-4.0.5 flax-0.5.3 optax-0.1.3 rich-11.2.0 tensorstore-0.1.22 tf-slim-1.1.0\n"
     ]
    }
   ],
   "source": [
    "# @title Install necessary packages.\n",
    "!pip install -U dopamine-rl\n"
   ]
  },
  {
   "cell_type": "code",
   "execution_count": null,
   "metadata": {
    "id": "WzwZoRKxdFov"
   },
   "outputs": [],
   "source": [
    "# @title Necessary imports and globals.\n",
    "\n",
    "import numpy as np\n",
    "import os\n",
    "from dopamine.discrete_domains import run_experiment\n",
    "from dopamine.colab import utils as colab_utils\n",
    "from absl import flags\n",
    "import gin.tf\n",
    "\n",
    "BASE_PATH = '/tmp/colab_dopamine_run'  # @param"
   ]
  },
  {
   "cell_type": "code",
   "execution_count": null,
   "metadata": {
    "colab": {
     "base_uri": "https://localhost:8080/"
    },
    "id": "PUBRSmX6dfa3",
    "outputId": "18d38cfd-69d0-49ab-9910-7258a4cef4e7"
   },
   "outputs": [
    {
     "data": {
      "text/plain": [
       "([],\n",
       " ['dopamine.discrete_domains.gym_lib',\n",
       "  'dopamine.discrete_domains.run_experiment',\n",
       "  'dopamine.agents.dqn.dqn_agent',\n",
       "  'dopamine.replay_memory.circular_replay_buffer',\n",
       "  'gin.tf.external_configurables'])"
      ]
     },
     "execution_count": 36,
     "metadata": {},
     "output_type": "execute_result"
    }
   ],
   "source": [
    "# @title Load the configuration for DQN.\n",
    "\n",
    "DQN_PATH = os.path.join(BASE_PATH, 'dqn')\n",
    "# Modified from dopamine/agents/dqn/config/dqn_cartpole.gin\n",
    "dqn_config = \"\"\"\n",
    "# Hyperparameters for a simple DQN-style Cartpole agent. The hyperparameters\n",
    "# chosen achieve reasonable performance.\n",
    "import dopamine.discrete_domains.gym_lib\n",
    "import dopamine.discrete_domains.run_experiment\n",
    "import dopamine.agents.dqn.dqn_agent\n",
    "import dopamine.replay_memory.circular_replay_buffer\n",
    "import gin.tf.external_configurables\n",
    "\n",
    "DQNAgent.observation_shape = %gym_lib.CARTPOLE_OBSERVATION_SHAPE\n",
    "DQNAgent.observation_dtype = %gym_lib.CARTPOLE_OBSERVATION_DTYPE\n",
    "DQNAgent.stack_size = %gym_lib.CARTPOLE_STACK_SIZE\n",
    "DQNAgent.network = @gym_lib.CartpoleDQNNetwork\n",
    "DQNAgent.gamma = 0.99\n",
    "DQNAgent.update_horizon = 1\n",
    "DQNAgent.min_replay_history = 500\n",
    "DQNAgent.update_period = 4\n",
    "DQNAgent.target_update_period = 100\n",
    "DQNAgent.epsilon_fn = @dqn_agent.identity_epsilon\n",
    "DQNAgent.tf_device = '/gpu:0'  # use '/cpu:*' for non-GPU version\n",
    "DQNAgent.optimizer = @tf.train.AdamOptimizer()\n",
    "\n",
    "tf.train.AdamOptimizer.learning_rate = 0.001\n",
    "tf.train.AdamOptimizer.epsilon = 0.0003125\n",
    "\n",
    "create_gym_environment.environment_name = 'CartPole'\n",
    "create_gym_environment.version = 'v0'\n",
    "create_agent.agent_name = 'dqn'\n",
    "TrainRunner.create_environment_fn = @gym_lib.create_gym_environment\n",
    "Runner.num_iterations = 50\n",
    "Runner.training_steps = 1000\n",
    "Runner.evaluation_steps = 1000\n",
    "Runner.max_steps_per_episode = 200  # Default max episode length.\n",
    "\n",
    "WrappedReplayBuffer.replay_capacity = 50000\n",
    "WrappedReplayBuffer.batch_size = 128\n",
    "\"\"\"\n",
    "gin.parse_config(dqn_config, skip_unknown=False)"
   ]
  },
  {
   "cell_type": "code",
   "execution_count": null,
   "metadata": {
    "colab": {
     "base_uri": "https://localhost:8080/"
    },
    "id": "WuWFGwGHfkFp",
    "outputId": "f419465e-dfc2-4097-9f49-78f72d561f59"
   },
   "outputs": [
    {
     "name": "stderr",
     "output_type": "stream",
     "text": [
      "WARNING:absl:DEPRECATION WARNING: Logger is being deprecated. Please switch to CollectorDispatcher!\n",
      "WARNING:tensorflow:From /usr/local/lib/python3.7/dist-packages/tensorflow/python/compat/v2_compat.py:107: disable_resource_variables (from tensorflow.python.ops.variable_scope) is deprecated and will be removed in a future version.\n",
      "Instructions for updating:\n",
      "non-resource variables are not supported in the long term\n"
     ]
    },
    {
     "name": "stdout",
     "output_type": "stream",
     "text": [
      "Will train DQN agent, please be patient, may be a while...\n"
     ]
    },
    {
     "name": "stderr",
     "output_type": "stream",
     "text": [
      "WARNING:tensorflow:From /usr/local/lib/python3.7/dist-packages/tensorflow/python/training/saver.py:1068: remove_checkpoint (from tensorflow.python.training.checkpoint_management) is deprecated and will be removed in a future version.\n",
      "Instructions for updating:\n",
      "Use standard file APIs to delete files with this prefix.\n"
     ]
    },
    {
     "name": "stdout",
     "output_type": "stream",
     "text": [
      "Done training!\n"
     ]
    }
   ],
   "source": [
    "# @title Train DQN on Cartpole\n",
    "dqn_runner = run_experiment.create_runner(DQN_PATH, schedule='continuous_train')\n",
    "print('Will train DQN agent, please be patient, may be a while...')\n",
    "dqn_runner.run_experiment()\n",
    "print('Done training!')"
   ]
  },
  {
   "cell_type": "code",
   "execution_count": null,
   "metadata": {
    "id": "IknanILXX4Zz"
   },
   "outputs": [],
   "source": [
    "# @title Load the training logs.\n",
    "data = colab_utils.read_experiment(DQN_PATH, verbose=True,\n",
    "                                   summary_keys=['train_episode_returns'])\n",
    "data['agent'] = 'DQN'\n",
    "data['run'] = 1\n",
    "c51_data = colab_utils.read_experiment(C51_PATH, verbose=True,\n",
    "                                       summary_keys=['train_episode_returns'])\n",
    "c51_data['agent'] = 'C51'\n",
    "c51_data['run'] = 1\n",
    "data = data.merge(c51_data, how='outer')"
   ]
  }
 ],
 "metadata": {
  "colab": {
   "provenance": []
  },
  "kernelspec": {
   "display_name": "Python 3",
   "language": "python",
   "name": "python3"
  },
  "language_info": {
   "codemirror_mode": {
    "name": "ipython",
    "version": 3
   },
   "file_extension": ".py",
   "mimetype": "text/x-python",
   "name": "python",
   "nbconvert_exporter": "python",
   "pygments_lexer": "ipython3",
   "version": "3.7.6"
  }
 },
 "nbformat": 4,
 "nbformat_minor": 1
}
